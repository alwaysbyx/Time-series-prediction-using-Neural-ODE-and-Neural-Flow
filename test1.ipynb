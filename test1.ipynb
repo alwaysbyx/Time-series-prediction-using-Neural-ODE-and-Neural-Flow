{
 "cells": [
  {
   "cell_type": "code",
   "execution_count": 1,
   "metadata": {},
   "outputs": [
    {
     "name": "stderr",
     "output_type": "stream",
     "text": [
      "/Users/bb/opt/anaconda3/envs/dr/lib/python3.8/site-packages/tqdm/auto.py:22: TqdmWarning: IProgress not found. Please update jupyter and ipywidgets. See https://ipywidgets.readthedocs.io/en/stable/user_install.html\n",
      "  from .autonotebook import tqdm as notebook_tqdm\n"
     ]
    }
   ],
   "source": [
    "import torch"
   ]
  },
  {
   "cell_type": "code",
   "execution_count": 15,
   "metadata": {},
   "outputs": [
    {
     "data": {
      "text/plain": [
       "tensor([[0., 1., 0., 0., 1., 0., 0., 1., 0.],\n",
       "        [0., 0., 0., 0., 0., 0., 0., 0., 0.],\n",
       "        [0., 1., 0., 0., 1., 0., 0., 1., 0.],\n",
       "        [0., 0., 0., 0., 0., 0., 0., 0., 0.]])"
      ]
     },
     "execution_count": 15,
     "metadata": {},
     "output_type": "execute_result"
    }
   ],
   "source": [
    "mat1 = torch.Tensor([[1,1,1],[1,1,1]])\n",
    "mat2 = torch.Tensor([[0,1,0],[0,0,0]])\n",
    "torch.kron(mat1, mat2)"
   ]
  },
  {
   "cell_type": "code",
   "execution_count": 2,
   "metadata": {},
   "outputs": [],
   "source": [
    "# !python create_gif.py --data sine --z0-encoder ode\n",
    "# !python create_gif.py --data sir --z0-encoder ode\n",
    "# !python create_gif.py --data pp --z0-encoder ode\n",
    "# !python create_gif.py --data population --z0-encoder ode\n",
    "# !python create_gif.py --data sine2 --z0-encoder ode\n",
    "!python create_gif.py --data square --z0-encoder ode"
   ]
  },
  {
   "cell_type": "code",
   "execution_count": 3,
   "metadata": {},
   "outputs": [],
   "source": [
    "!python create_gif.py --data sine --z0-encoder flow\n",
    "!python create_gif.py --data sir --z0-encoder flow\n",
    "!python create_gif.py --data pp --z0-encoder flow\n",
    "!python create_gif.py --data population --z0-encoder flow\n",
    "!python create_gif.py --data sine2 --z0-encoder flow\n",
    "!python create_gif.py --data square --z0-encoder flow\n",
    "\n",
    "!python create_gif.py --data sine --z0-encoder flow --flow-model resnet\n",
    "!python create_gif.py --data sir --z0-encoder flow --flow-model resnet\n",
    "!python create_gif.py --data pp --z0-encoder flow --flow-model resnet\n",
    "!python create_gif.py --data population --z0-encoder flow --flow-model resnet\n",
    "!python create_gif.py --data sine2 --z0-encoder flow --flow-model resnet\n",
    "!python create_gif.py --data square --z0-encoder flow --flow-model resnet"
   ]
  },
  {
   "cell_type": "code",
   "execution_count": null,
   "metadata": {},
   "outputs": [],
   "source": [
    "!python create_gif.py --data high --z0-encoder flow\n",
    "!python create_gif.py --data high --z0-encoder ode\n",
    "!python create_gif.py --data high --z0-encoder flow --flow-model resnet"
   ]
  }
 ],
 "metadata": {
  "interpreter": {
   "hash": "78c8e1b80b1031a1e136770481d214899efde752997b0b94966a80ddc7ada738"
  },
  "kernelspec": {
   "display_name": "Python 3.8.3 64-bit ('base': conda)",
   "name": "python3"
  },
  "language_info": {
   "codemirror_mode": {
    "name": "ipython",
    "version": 3
   },
   "file_extension": ".py",
   "mimetype": "text/x-python",
   "name": "python",
   "nbconvert_exporter": "python",
   "pygments_lexer": "ipython3",
   "version": "3.8.3"
  },
  "orig_nbformat": 4
 },
 "nbformat": 4,
 "nbformat_minor": 2
}
